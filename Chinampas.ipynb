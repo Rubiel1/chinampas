{
 "cells": [
  {
   "cell_type": "markdown",
   "metadata": {},
   "source": [
    "# Polychrony as Chinampas"
   ]
  },
  {
   "cell_type": "markdown",
   "metadata": {},
   "source": [
    "#### Introduction"
   ]
  },
  {
   "cell_type": "markdown",
   "metadata": {},
   "source": [
    "Why people retweets?\n",
    "![T](img/twitt.jpg)\n",
    "\n",
    "External Stimuli:\n",
    " \n",
    "    -Money.\n",
    "\n",
    "reaction to environment:\n",
    "\n",
    "     -agreement,\n",
    "     -viewer apathy (follow the others),\n",
    "     -image management (what others should see on my profile),     \n",
    "     -indirect messages (I put it on the air  but I aim someone),\n",
    "\n",
    "Non linearity:\n",
    "Even if several of those conditions hold, I only retweet one time."
   ]
  },
  {
   "cell_type": "code",
   "execution_count": null,
   "metadata": {},
   "outputs": [],
   "source": []
  },
  {
   "cell_type": "markdown",
   "metadata": {},
   "source": [
    "Non Linear graphs with threshold.\n",
    "\n",
    "   "
   ]
  },
  {
   "cell_type": "code",
   "execution_count": null,
   "metadata": {},
   "outputs": [],
   "source": []
  },
  {
   "cell_type": "markdown",
   "metadata": {},
   "source": [
    "Water dams. \n",
    "\n",
    "![T](img/dam.jpeg)\n",
    "External stimuli:\n",
    "\n",
    "    -Rain\n",
    "    \n",
    "Reaction to environment:\n",
    "   \n",
    "    -Water coming from other dams adds until the threshold is reached..\n",
    "    \n",
    "Non linearity: All that matters is that the threshold is reached."
   ]
  },
  {
   "cell_type": "code",
   "execution_count": null,
   "metadata": {},
   "outputs": [],
   "source": []
  },
  {
   "cell_type": "code",
   "execution_count": null,
   "metadata": {},
   "outputs": [],
   "source": []
  },
  {
   "cell_type": "markdown",
   "metadata": {},
   "source": [
    "Covid 19. \n",
    "![T](img/covid.jpg)\n",
    "(Gürsakal N, Batmaz B, Aktuna G. Drawing transmission graphs for COVID-19 in the perspective of network science. Epidemiol Infect. 2020;148:e269. Published 2020 Nov 4. doi:10.1017/S0950268820002654)\n",
    "\n",
    " External Stimuli:\n",
    "    \n",
    "    Disbelief on science. \n",
    "\n",
    "\n",
    "Reaction to environment::\n",
    "\n",
    "    \n",
    "    -interaction with too many people,\n",
    "    -not washing hands, forget mask, \n",
    "    -weak immune system,\n",
    "    -too much time in pleces without proper air flow. \n",
    "        \n",
    "Problema no lineal."
   ]
  },
  {
   "cell_type": "code",
   "execution_count": null,
   "metadata": {},
   "outputs": [],
   "source": [
    "viral load exceeds"
   ]
  },
  {
   "cell_type": "code",
   "execution_count": null,
   "metadata": {},
   "outputs": [],
   "source": []
  },
  {
   "cell_type": "code",
   "execution_count": null,
   "metadata": {},
   "outputs": [],
   "source": []
  },
  {
   "cell_type": "code",
   "execution_count": null,
   "metadata": {},
   "outputs": [],
   "source": []
  },
  {
   "cell_type": "code",
   "execution_count": null,
   "metadata": {},
   "outputs": [],
   "source": [
    "\n"
   ]
  },
  {
   "cell_type": "code",
   "execution_count": null,
   "metadata": {},
   "outputs": [],
   "source": []
  },
  {
   "cell_type": "code",
   "execution_count": null,
   "metadata": {},
   "outputs": [],
   "source": []
  },
  {
   "cell_type": "code",
   "execution_count": null,
   "metadata": {},
   "outputs": [],
   "source": []
  },
  {
   "cell_type": "markdown",
   "metadata": {},
   "source": [
    "Biological Neural Network\n",
    "![Neuronas](img/neuron.jpg)\n",
    "     SMI32-stained pyramidal neurons in cerebral cortex. By UC Regents Davis campus.\n",
    "     \n",
    "     \n",
    "     \n",
    "     \n",
    "##### Neuron Fires\n",
    "\n",
    "External Stimuli\n",
    "\n",
    "    -Light, noise,...\n",
    "    \n",
    "reaction to environment:\n",
    "\n",
    "    -signals from other neurons arrive concurrently.\n",
    "    \n",
    "condicion no lineal: all that matters is that we reach the threshold"
   ]
  },
  {
   "cell_type": "code",
   "execution_count": null,
   "metadata": {},
   "outputs": [],
   "source": []
  },
  {
   "cell_type": "code",
   "execution_count": null,
   "metadata": {},
   "outputs": [],
   "source": []
  },
  {
   "cell_type": "markdown",
   "metadata": {},
   "source": [
    "### Flow Graphs\n",
    "Claude Shannon 1942, Samuel Jefferson Mason 1953 "
   ]
  },
  {
   "cell_type": "markdown",
   "metadata": {},
   "source": [
    "![Network](img/network.png)"
   ]
  },
  {
   "cell_type": "markdown",
   "metadata": {},
   "source": [
    "### Non linear flow graphs. \n"
   ]
  },
  {
   "cell_type": "markdown",
   "metadata": {},
   "source": [
    " ![activaciones_externas](img/movie.gif)"
   ]
  },
  {
   "cell_type": "raw",
   "metadata": {},
   "source": []
  },
  {
   "cell_type": "markdown",
   "metadata": {},
   "source": [
    "    Polychronization: computation with spikes by Eugene M Izhikevich"
   ]
  },
  {
   "cell_type": "markdown",
   "metadata": {},
   "source": [
    "--Classify polychrony groups \n",
    "Make sure to define this concept.\n",
    "--What is the algebraic structure?\n",
    "\n"
   ]
  },
  {
   "cell_type": "code",
   "execution_count": null,
   "metadata": {},
   "outputs": [],
   "source": []
  },
  {
   "cell_type": "markdown",
   "metadata": {},
   "source": [
    " ![ejemplo](img/one_0.png) "
   ]
  },
  {
   "cell_type": "markdown",
   "metadata": {},
   "source": [
    "Automatas celular, rule 192 \n",
    "![Network](img/rule192.png)"
   ]
  },
  {
   "cell_type": "code",
   "execution_count": null,
   "metadata": {},
   "outputs": [],
   "source": []
  },
  {
   "cell_type": "code",
   "execution_count": null,
   "metadata": {},
   "outputs": [],
   "source": []
  },
  {
   "cell_type": "code",
   "execution_count": null,
   "metadata": {},
   "outputs": [],
   "source": []
  },
  {
   "cell_type": "markdown",
   "metadata": {},
   "source": [
    "Vertical axis= time."
   ]
  },
  {
   "cell_type": "markdown",
   "metadata": {},
   "source": [
    " ![activaciones](img/st.png)"
   ]
  },
  {
   "cell_type": "markdown",
   "metadata": {},
   "source": [
    " ![activaciones_externas](img/movie.gif)"
   ]
  },
  {
   "cell_type": "markdown",
   "metadata": {},
   "source": [
    "##  Topological classification: Chinampas"
   ]
  },
  {
   "cell_type": "markdown",
   "metadata": {},
   "source": [
    "( networks, signal) to colored graphs."
   ]
  },
  {
   "cell_type": "markdown",
   "metadata": {},
   "source": [
    "Cascade: external stimuly is less than the number of neurons that reacted"
   ]
  },
  {
   "cell_type": "markdown",
   "metadata": {},
   "source": [
    " ![forma general](img/standart.png) "
   ]
  },
  {
   "cell_type": "markdown",
   "metadata": {},
   "source": [
    "Cascades in network = union of chinampas in a cover"
   ]
  },
  {
   "cell_type": "markdown",
   "metadata": {},
   "source": [
    "In physics, particles are represented by vector bundles"
   ]
  },
  {
   "cell_type": "code",
   "execution_count": null,
   "metadata": {},
   "outputs": [],
   "source": []
  },
  {
   "cell_type": "code",
   "execution_count": null,
   "metadata": {},
   "outputs": [],
   "source": []
  },
  {
   "cell_type": "code",
   "execution_count": null,
   "metadata": {},
   "outputs": [],
   "source": []
  },
  {
   "cell_type": "code",
   "execution_count": null,
   "metadata": {},
   "outputs": [],
   "source": []
  },
  {
   "cell_type": "markdown",
   "metadata": {},
   "source": [
    "### How many chinampas are there?"
   ]
  },
  {
   "cell_type": "code",
   "execution_count": null,
   "metadata": {},
   "outputs": [],
   "source": []
  },
  {
   "cell_type": "markdown",
   "metadata": {},
   "source": [
    "\n",
    "Profit: Secondary vertices - External stimuli."
   ]
  },
  {
   "cell_type": "markdown",
   "metadata": {},
   "source": [
    "   The series <font color='red'> (3x+1)e^{2x}= \\sum c_n x^n</font>, x=number of neurons, returns the number of chinampas of profit 0\n",
    "\n",
    "        "
   ]
  },
  {
   "cell_type": "markdown",
   "metadata": {},
   "source": [
    " ![profit0](img/cost0.png) "
   ]
  },
  {
   "cell_type": "markdown",
   "metadata": {},
   "source": [
    "The series <font color='red'> (9x^2+18x+4) e^{2x}/2</font>, x=number of neurons. Returns the number of Chinampas of profit 1"
   ]
  },
  {
   "cell_type": "markdown",
   "metadata": {},
   "source": [
    " ![profit1](img/cost1.png) "
   ]
  },
  {
   "cell_type": "markdown",
   "metadata": {},
   "source": [
    " ![forma general](img/standart.png) "
   ]
  },
  {
   "cell_type": "code",
   "execution_count": null,
   "metadata": {},
   "outputs": [],
   "source": []
  },
  {
   "cell_type": "code",
   "execution_count": null,
   "metadata": {},
   "outputs": [],
   "source": []
  },
  {
   "cell_type": "code",
   "execution_count": null,
   "metadata": {},
   "outputs": [],
   "source": []
  },
  {
   "cell_type": "code",
   "execution_count": null,
   "metadata": {},
   "outputs": [],
   "source": []
  },
  {
   "cell_type": "code",
   "execution_count": null,
   "metadata": {},
   "outputs": [],
   "source": []
  },
  {
   "cell_type": "code",
   "execution_count": null,
   "metadata": {},
   "outputs": [],
   "source": []
  },
  {
   "cell_type": "code",
   "execution_count": null,
   "metadata": {},
   "outputs": [],
   "source": []
  },
  {
   "cell_type": "markdown",
   "metadata": {},
   "source": [
    "### Intermiddle step :\n",
    "Roots with the same height and wide"
   ]
  },
  {
   "cell_type": "code",
   "execution_count": null,
   "metadata": {},
   "outputs": [],
   "source": []
  },
  {
   "cell_type": "code",
   "execution_count": null,
   "metadata": {},
   "outputs": [],
   "source": []
  },
  {
   "cell_type": "markdown",
   "metadata": {},
   "source": [
    "![raices](img/roots.png)"
   ]
  },
  {
   "cell_type": "markdown",
   "metadata": {},
   "source": [
    "By analyzing the white space we found that the number of chinampas is equal to the number of solutions of the system below.\n",
    "If there is an arrow $a\\rightarrow b,$  then $ a<b$"
   ]
  },
  {
   "cell_type": "markdown",
   "metadata": {},
   "source": [
    "![raices](img/r4.png)"
   ]
  },
  {
   "cell_type": "markdown",
   "metadata": {},
   "source": [
    "Find $1\\leq s_i^j\\leq k$ satisfying the geometric inequalities. $1\\leq s_4^4<\\cdots<s^1_4\\leq k$\n",
    "\n",
    "\n",
    "\n",
    "\n",
    "\n",
    "\n",
    "\n",
    "\n",
    "\n",
    "\n",
    "\n",
    "\n",
    "$Z(A_R)=\\sum c_kx^k$ where $c_k$ number of  solutions with $k$ roots of height $R$"
   ]
  },
  {
   "cell_type": "markdown",
   "metadata": {},
   "source": [
    "\n",
    "![general](img/img.png)"
   ]
  },
  {
   "cell_type": "markdown",
   "metadata": {},
   "source": [
    "Open problem: number of solutions to  $R$  triangular sequence for $R>8$."
   ]
  },
  {
   "cell_type": "markdown",
   "metadata": {},
   "source": [
    "Polychrony as Chinampas:\n",
    "Eric Dolores-Cuenca, Jose Antonio Arciniega-Nevarez, Anh Nguyen, Yitong Zou, Nathan Crock, Gordon Erlebacher, Jose L. Mendoza-Cortes"
   ]
  }
 ],
 "metadata": {
  "kernelspec": {
   "display_name": "Python 3",
   "language": "python",
   "name": "python3"
  },
  "language_info": {
   "codemirror_mode": {
    "name": "ipython",
    "version": 3
   },
   "file_extension": ".py",
   "mimetype": "text/x-python",
   "name": "python",
   "nbconvert_exporter": "python",
   "pygments_lexer": "ipython3",
   "version": "3.7.3"
  }
 },
 "nbformat": 4,
 "nbformat_minor": 2
}
